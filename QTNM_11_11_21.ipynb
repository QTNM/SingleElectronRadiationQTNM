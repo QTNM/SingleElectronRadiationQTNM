{
 "cells": [
  {
   "cell_type": "markdown",
   "metadata": {},
   "source": [
    "# QTNM Update 11/11/21\n",
    "\n",
    "## Radiated power of a single electron"
   ]
  },
  {
   "cell_type": "code",
   "execution_count": null,
   "metadata": {
    "slideshow": {
     "slide_type": "skip"
    }
   },
   "outputs": [],
   "source": [
    "import numpy as np\n",
    "import matplotlib.pyplot as plt\n",
    "from mpl_toolkits.mplot3d import Axes3D\n",
    "from matplotlib.patches import FancyArrowPatch\n",
    "from mpl_toolkits.mplot3d import proj3d\n",
    "from scipy.constants import c, epsilon_0 as ep0, elementary_charge as qe, electron_mass as me, mu_0 as mu0\n",
    "from SingleElectronRadiation import SingleElectronRadiation as SER"
   ]
  },
  {
   "cell_type": "code",
   "execution_count": null,
   "metadata": {
    "slideshow": {
     "slide_type": "skip"
    }
   },
   "outputs": [],
   "source": [
    "plt.rcParams['figure.figsize'] = [12, 8]"
   ]
  },
  {
   "cell_type": "code",
   "execution_count": null,
   "metadata": {
    "slideshow": {
     "slide_type": "skip"
    }
   },
   "outputs": [],
   "source": [
    "# Credit: https://stackoverflow.com/questions/38194247/how-can-i-connect-two-points-in-3d-scatter-plot-with-arrow\n",
    "class Arrow3D(FancyArrowPatch):\n",
    "    def __init__(self, xs, ys, zs, *args, **kwargs):\n",
    "        FancyArrowPatch.__init__(self, (0,0), (0,0), *args, **kwargs)\n",
    "        self._verts3d = xs, ys, zs\n",
    "\n",
    "    def draw(self, renderer):\n",
    "        xs3d, ys3d, zs3d = self._verts3d\n",
    "        xs, ys, zs = proj3d.proj_transform(xs3d, ys3d, zs3d, renderer.M)\n",
    "        self.set_positions((xs[0],ys[0]),(xs[1],ys[1]))\n",
    "        FancyArrowPatch.draw(self, renderer)"
   ]
  },
  {
   "cell_type": "code",
   "execution_count": null,
   "metadata": {
    "slideshow": {
     "slide_type": "slide"
    },
    "tags": [
     "to_remove"
    ]
   },
   "outputs": [],
   "source": [
    "fig = plt.figure(figsize=[8,8])\n",
    "ax = plt.axes(projection='3d')\n",
    "ax.set_aspect('auto')\n",
    "\n",
    "# Draw centered axes\n",
    "val = [1,0,0]\n",
    "labels = ['x', 'y', 'z']\n",
    "colors = ['black', 'black', 'black']\n",
    "for v in range(3):\n",
    "    x = [val[v-0], -val[v-0]]\n",
    "    y = [val[v-1], -val[v-1]]\n",
    "    z = [val[v-2], -val[v-2]]\n",
    "    ax.plot(x,y,z,'k-', linewidth=1)\n",
    "    f = 1.075\n",
    "    ax.text(f*val[v-0], f*val[v-1], f*val[v-2], labels[v], color=colors[v], fontsize=20)\n",
    "\n",
    "\n",
    "# Hide everything else\n",
    "# Hide axes ticks\n",
    "ax.set_xticks([])\n",
    "ax.set_yticks([])\n",
    "ax.set_zticks([])\n",
    "# make the panes transparent\n",
    "ax.xaxis.set_pane_color((1.0, 1.0, 1.0, 0.0))\n",
    "ax.yaxis.set_pane_color((1.0, 1.0, 1.0, 0.0))\n",
    "ax.zaxis.set_pane_color((1.0, 1.0, 1.0, 0.0))\n",
    "# Hide box axes\n",
    "ax._axis3don = False\n",
    "\n",
    "# Expand to remove white space\n",
    "lim = 0.65\n",
    "ax.set_xlim(np.array([-1,1])*lim)\n",
    "ax.set_ylim(np.array([-1,1])*lim)\n",
    "ax.set_zlim(np.array([-1,1])*lim)\n",
    "\n",
    "# Plot some vectors\n",
    "_beta_dot = [0.75, 0, 0]\n",
    "_beta = [0, 0, 0.75]\n",
    "_n = [0.25, 0.75, 0.95]\n",
    "\n",
    "arw = Arrow3D([0,_beta_dot[0]],[0,_beta_dot[1]],[0,_beta_dot[2]], arrowstyle=\"->\", color=\"red\",\n",
    "              lw = 4, mutation_scale=25, alpha=0.5)\n",
    "ax.add_artist(arw)\n",
    "ax.text(_beta_dot[0],0.1+_beta_dot[1],_beta_dot[2], r'$\\dot{\\vec{\\beta}}$', color=\"red\", fontsize=20)\n",
    "\n",
    "arw = Arrow3D([0,_beta[0]],[0,_beta[1]],[0,_beta[2]], arrowstyle=\"->\", color=\"red\",\n",
    "              lw = 4, mutation_scale=25, alpha=0.5)\n",
    "ax.add_artist(arw)\n",
    "ax.text(_beta[0],0.05+_beta[1],_beta[2], r'$\\vec{\\beta}$', color=\"red\", fontsize=20)\n",
    "\n",
    "arw = Arrow3D([0,_n[0]],[0,_n[1]],[0,_n[2]], arrowstyle=\"->\", color=\"blue\",\n",
    "              lw = 4, mutation_scale=25, alpha=0.5)\n",
    "ax.add_artist(arw)\n",
    "ax.text(_n[0],_n[1],_n[2], r'$\\vec{n}$', color=\"blue\", fontsize=20)\n",
    "\n",
    "plt.plot([0,_n[0]],[0,_n[1]],[0,0], lw=4, alpha=0.5, color='blue', linestyle='--')\n",
    "plt.plot([_n[0],_n[0]],[_n[1],_n[1]],[0,_n[2]], lw=4, alpha=0.5, color='blue', linestyle='--')\n",
    "\n",
    "# Want to draw an arc from beta_dot / 2 -> [_n[0], _n[1], 0]\n",
    "radius = _beta_dot[0] / 2\n",
    "tmax = np.arctan(_n[1] / _n[0])\n",
    "theta = np.linspace(0, tmax, 11)\n",
    "xs = radius * np.cos(theta)\n",
    "ys = radius * np.sin(theta)\n",
    "zs = np.zeros_like(xs)\n",
    "plt.plot(xs, ys, zs, color='black')\n",
    "ax.text(1.4*xs[3], 1.4*ys[3], zs[3], r'$\\phi$', fontsize=20)\n",
    "\n",
    "# This is not actually the correct arc (wrong plane), but good enough for our purposes\n",
    "radius = _beta[2] / 2\n",
    "tmax = np.arctan(_n[1] / _n[2])\n",
    "theta = np.linspace(0, tmax, 11)\n",
    "zs = radius * np.cos(theta)\n",
    "ys = radius * np.sin(theta)\n",
    "xs = np.zeros_like(xs)\n",
    "plt.plot(xs, ys, zs, color='black')\n",
    "ax.text(xs[3], ys[3], 1.1*zs[3], r'$\\theta$', fontsize=20)\n",
    "\n",
    "ax.view_init(30, 30)\n",
    "\n",
    "plt.tight_layout()\n",
    "plt.title('3D Coordinate System', fontsize=20)\n",
    "plt.show()"
   ]
  },
  {
   "cell_type": "markdown",
   "metadata": {
    "slideshow": {
     "slide_type": "slide"
    }
   },
   "source": [
    "# Set up a detector on the z-axis, at a distance of 2cm from the origin"
   ]
  },
  {
   "cell_type": "code",
   "execution_count": null,
   "metadata": {
    "slideshow": {
     "slide_type": "skip"
    }
   },
   "outputs": [],
   "source": [
    "R = 2e-2 # Radius for antenna\n",
    "antennaPosition = [0,0,R] # Dipole on z axis aligned in x direction\n",
    "antennaAlignment = [1,0,0] # Antenna alignment"
   ]
  },
  {
   "cell_type": "code",
   "execution_count": null,
   "metadata": {
    "slideshow": {
     "slide_type": "skip"
    }
   },
   "outputs": [],
   "source": [
    "# Some routines to specify the electron's path\n",
    "\n",
    "def positions(times, radius=4.6e-4, f=2.7e10):\n",
    "    return rl * np.cos(2.0 * np.pi * times * f), np.zeros_like(times), rl * np.sin(2.0 * np.pi * times * f)\n",
    "\n",
    "def velocities(times, radius=4.6e-4, f=2.7e10):\n",
    "    v0 = rl * f * 2.0 * np.pi\n",
    "    return -v0 * np.sin(2.0 * np.pi * times * f), np.zeros_like(times), v0 * np.cos(2.0 * np.pi * times * f)\n",
    "\n",
    "def accelerations(times, radius=4.6e-4, f=2.7e10):\n",
    "    a0 = rl * (f * 2.0 * np.pi)**2\n",
    "    return -a0 * np.cos(2.0 * np.pi * times * f), np.zeros_like(times), -a0 * np.sin(2.0 * np.pi * times * f)"
   ]
  },
  {
   "cell_type": "code",
   "execution_count": null,
   "metadata": {
    "slideshow": {
     "slide_type": "skip"
    }
   },
   "outputs": [],
   "source": [
    "B = 1.0 # Tesla\n",
    "\n",
    "# Calculate frequency, Larmor radius etc properly\n",
    "# Initial kinetic energy (eV)\n",
    "T = 18600\n",
    "# Rel. gamma\n",
    "gamma = T * qe / (me*c**2) + 1\n",
    "# (v/c)^2\n",
    "beta = np.sqrt(1 - 1 / gamma**2)\n",
    "\n",
    "# Calculate frequency, Larmor radius\n",
    "rl = gamma * me * beta * c / (qe * B)\n",
    "f = qe * B / (2.0 * np.pi * gamma * me)\n",
    "\n",
    "wl = c / f # Wavelength\n",
    "\n",
    "# Effective area of Hertzian dipole\n",
    "ae = wl**2 * 3 / (8 * np.pi)"
   ]
  },
  {
   "cell_type": "markdown",
   "metadata": {
    "slideshow": {
     "slide_type": "fragment"
    }
   },
   "source": [
    "## Our antenna will be modelled as a Hertzian dipole, with effective area of:\n",
    "\n",
    "\\begin{equation*}\n",
    "A_e = \\frac{3 \\lambda^2}{8 \\pi}\n",
    "\\end{equation*}"
   ]
  },
  {
   "cell_type": "code",
   "execution_count": null,
   "metadata": {
    "slideshow": {
     "slide_type": "fragment"
    },
    "tags": [
     "to_remove"
    ]
   },
   "outputs": [],
   "source": [
    "print('Antenna effective area = %.6e' % ae)\n",
    "\n",
    "print('Electron Orbit parameters:')\n",
    "\n",
    "print('Magnetic field =  %.2f T' % B)\n",
    "print('Electron kinetic energy = %.2f KeV' % (T/1e3))\n",
    "print('gamma, beta = %.6f, %.6f' % (gamma, beta))\n",
    "print('Larmor radius = %.6f mm' % (rl*1e3))\n",
    "print('Frequency = %.4f GHz' % (f/1e9))"
   ]
  },
  {
   "cell_type": "markdown",
   "metadata": {
    "slideshow": {
     "slide_type": "slide"
    }
   },
   "source": [
    "## The angular distribution of power is:\n",
    "\n",
    "\\begin{align*}\n",
    "\\frac{d P(t')}{d\\Omega} &= \\left(\\frac{e a}{4 \\pi \\epsilon_0 c^2 R} \\right)^2 \\frac{1}{\\mu_0 c} \\frac{\\left|\\vec{n} \\times \\left[\\left(\\vec{n} - \\vec{\\beta} \\right) \\times\\dot{\\vec{\\beta}} \\right] \\right|^2}{\\left(1 - \\vec{n}\\cdot\\vec{\\beta} \\right)^5} \\\\\n",
    "&= \\left(\\frac{e a}{4 \\pi \\epsilon_0 c^2 R} \\right)^2 \\frac{1}{\\mu_0 c}\\left[\\left(\\cos \\theta - \\beta\\right)^2 + \\sin^2\\phi \\sin^2 \\theta \\left(1 - \\beta^2\\right) \\right] \\frac{1}{(1 - \\beta \\cos \\theta)^5}\n",
    "\\end{align*}\n",
    "\n",
    "## Here $a$ is the magnitude of the acceleration (constant). This is equivalent to equation (14.44) of Jackson and Stafford's notes. Written this way as about to set $\\phi = 0$"
   ]
  },
  {
   "cell_type": "markdown",
   "metadata": {
    "slideshow": {
     "slide_type": "fragment"
    }
   },
   "source": [
    "## For $\\phi = 0$ this has a maximum at $\\theta = 0$. Using our effective area from before:"
   ]
  },
  {
   "cell_type": "code",
   "execution_count": null,
   "metadata": {
    "slideshow": {
     "slide_type": "skip"
    }
   },
   "outputs": [],
   "source": [
    "# Set up solution\n",
    "\n",
    "# Set of times\n",
    "times = np.linspace(0.0, 4.0 / f, 4001)\n",
    "\n",
    "x, y, z = positions(times, radius=rl, f=f)\n",
    "vx, vy, vz = velocities(times, radius=rl, f=f)\n",
    "ax, ay, az = accelerations(times, radius=rl, f=f)\n",
    "\n",
    "a0 = np.linalg.norm(accelerations(0, radius=rl, f=f)) # Need this in a bit. Constant here"
   ]
  },
  {
   "cell_type": "code",
   "execution_count": null,
   "metadata": {
    "slideshow": {
     "slide_type": "fragment"
    },
    "tags": [
     "to_remove"
    ]
   },
   "outputs": [],
   "source": [
    "max_value = (a0 * qe / (4.0 * np.pi * ep0 * c**2 * R))**2 / (mu0 * c) / (1.0 - beta)**3\n",
    "print('Maximum power = %.4E' % (max_value * ae))"
   ]
  },
  {
   "cell_type": "code",
   "execution_count": null,
   "metadata": {
    "slideshow": {
     "slide_type": "skip"
    }
   },
   "outputs": [],
   "source": [
    "# Use Daniel's code to work out the relativistic fields and Poynting magnitude\n",
    "poyntingMagnitude = np.zeros(len(times))\n",
    "\n",
    "# Work out far field according to Daniel's code\n",
    "for i in range(len(times)):\n",
    "    # Electron circular motion in xy plane\n",
    "    ePosX = x[i]\n",
    "    ePosY = y[i]\n",
    "    ePosZ = z[i]\n",
    "    \n",
    "    eVelX = vx[i]\n",
    "    eVelY = vy[i]\n",
    "    eVelZ = vz[i]\n",
    "    \n",
    "    eAccX = ax[i]\n",
    "    eAccY = ay[i]\n",
    "    eAccZ = az[i]\n",
    "    \n",
    "    EPosition = np.array([ePosX,ePosY,ePosZ])\n",
    "    EVelocity = np.array([eVelX,eVelY,eVelZ])\n",
    "    EAcceleration = np.array([eAccX,eAccY,eAccZ])\n",
    "    \n",
    "    # Only interested in far field\n",
    "    farEField = SER.CalcRelFarEField(antennaPosition,times[i],EPosition,EVelocity,EAcceleration)[0]\n",
    "    \n",
    "    poyntingMagnitude[i] = SER.CalcPoyntingVectorMagnitude(np.linalg.norm(farEField))"
   ]
  },
  {
   "cell_type": "code",
   "execution_count": null,
   "metadata": {
    "slideshow": {
     "slide_type": "skip"
    }
   },
   "outputs": [],
   "source": [
    "# Now work out theoretical power according to Jackson formula\n",
    "def theory_electron(theta, a0, beta, R):\n",
    "    fac = qe / (4.0 * np.pi * ep0 * c**2 * R)\n",
    "    smag = fac**2 * a0**2 / mu0 / c\n",
    "    return smag * (np.cos(theta) - beta)**2 / (1.0 - beta * np.cos(theta))**5\n",
    "\n",
    "theta = 2.0 * np.pi * f * times"
   ]
  },
  {
   "cell_type": "code",
   "execution_count": null,
   "metadata": {
    "slideshow": {
     "slide_type": "slide"
    },
    "tags": [
     "to_remove"
    ]
   },
   "outputs": [],
   "source": [
    "plt.plot(theta, theory_electron(theta, a0, beta, R), label=r'Jackson (14.44)')\n",
    "plt.plot(theta, poyntingMagnitude, linestyle='--', label='Daniel\\'s code')\n",
    "plt.xlim(left=0.0)\n",
    "plt.ylim(bottom=0)\n",
    "plt.xlabel('Angle (radians)')\n",
    "plt.ylabel(r'Power $(W/m^2)$')\n",
    "plt.xlim(left=0.0)\n",
    "plt.ylim(bottom=0)\n",
    "plt.legend()\n",
    "plt.tight_layout()"
   ]
  },
  {
   "cell_type": "markdown",
   "metadata": {
    "slideshow": {
     "slide_type": "slide"
    }
   },
   "source": [
    "## This doesn't match. The previous equation (e.g 14.38 or 14.44 of Jackson) is power radiated in terms of the electron time, $t'$. Need to multiply by\n",
    "\n",
    "\\begin{equation*}\n",
    "\\frac{dt'}{dt} = \\frac{1}{1 - \\vec{\\beta} \\cdot \\vec{n}} = \\frac{1}{1 - \\beta \\cos \\theta}\n",
    "\\end{equation*}\n",
    "\n",
    "(See e.g. 14.35-14.37 of Jackson)"
   ]
  },
  {
   "cell_type": "code",
   "execution_count": null,
   "metadata": {
    "slideshow": {
     "slide_type": "skip"
    }
   },
   "outputs": [],
   "source": [
    "def theory_lab(theta, a0, beta, R):\n",
    "    return theory_electron(theta, a0, beta, R) / (1.0 - beta * np.cos(theta))"
   ]
  },
  {
   "cell_type": "code",
   "execution_count": null,
   "metadata": {
    "slideshow": {
     "slide_type": "slide"
    },
    "tags": [
     "to_remove"
    ]
   },
   "outputs": [],
   "source": [
    "plt.plot(theta, theory_lab(theta, a0, beta, R), label=r'$Jackson (14.44)  / (1.0 - \\beta\\cos\\theta)$')\n",
    "plt.plot(theta, poyntingMagnitude, linestyle='--', label='Daniel\\'s code')\n",
    "plt.xlim(left=0.0)\n",
    "plt.ylim(bottom=0)\n",
    "plt.xlabel('Angle (radians)')\n",
    "plt.ylabel(r'Power $(W/m^2)$')\n",
    "plt.xlim(left=0.0)\n",
    "plt.ylim(bottom=0)\n",
    "plt.legend()\n",
    "plt.tight_layout()"
   ]
  },
  {
   "cell_type": "markdown",
   "metadata": {
    "slideshow": {
     "slide_type": "slide"
    }
   },
   "source": [
    "## Matches a lot better. Note that the theory isn't totally accurate - assumes that distance = antenna position, rather than electron position - antetenna position. Consequently some small errors in theta too."
   ]
  },
  {
   "cell_type": "markdown",
   "metadata": {
    "slideshow": {
     "slide_type": "fragment"
    }
   },
   "source": [
    "## Finally multiply by effective area of our dipole, to get the power received by the antenna"
   ]
  },
  {
   "cell_type": "code",
   "execution_count": null,
   "metadata": {
    "slideshow": {
     "slide_type": "skip"
    }
   },
   "outputs": [],
   "source": [
    "powersHertzian = np.zeros(len(times))\n",
    "\n",
    "# Work out far field according to Daniel's code\n",
    "for i in range(len(times)):\n",
    "    # Electron circular motion in xy plane\n",
    "    ePosX = x[i]\n",
    "    ePosY = y[i]\n",
    "    ePosZ = z[i]\n",
    "    \n",
    "    eVelX = vx[i]\n",
    "    eVelY = vy[i]\n",
    "    eVelZ = vz[i]\n",
    "    \n",
    "    eAccX = ax[i]\n",
    "    eAccY = ay[i]\n",
    "    eAccZ = az[i]\n",
    "    \n",
    "    EPosition = np.array([ePosX,ePosY,ePosZ])\n",
    "    EVelocity = np.array([eVelX,eVelY,eVelZ])\n",
    "    EAcceleration = np.array([eAccX,eAccY,eAccZ])\n",
    "    \n",
    "    # Only interested in far field\n",
    "    farEField = SER.CalcRelFarEField(antennaPosition,times[i],EPosition,EVelocity,EAcceleration)[0]\n",
    "    \n",
    "    _poyntingMagnitude = SER.CalcPoyntingVectorMagnitude(np.linalg.norm(farEField))\n",
    "    \n",
    "    \n",
    "    antennaToElectronVector = EPosition - antennaPosition\n",
    "    cosDipoleToEmissionAngle = np.dot(antennaToElectronVector,antennaAlignment)  \\\n",
    "    / ( np.linalg.norm(antennaToElectronVector)*np.linalg.norm(antennaAlignment) )\n",
    "    \n",
    "    dipoleToEmissionAngle = np.arccos(cosDipoleToEmissionAngle)\n",
    "    hertzianDipoleEffectiveArea = SER.HertzianDipoleEffectiveArea(wl,dipoleToEmissionAngle)\n",
    "    \n",
    "    powersHertzian[i] = _poyntingMagnitude * hertzianDipoleEffectiveArea"
   ]
  },
  {
   "cell_type": "code",
   "execution_count": null,
   "metadata": {
    "slideshow": {
     "slide_type": "slide"
    },
    "tags": [
     "to_remove"
    ]
   },
   "outputs": [],
   "source": [
    "plt.plot(theta, theory_lab(theta, a0, beta, R) * ae, \n",
    "         label=r'$Jackson (14.44)  / (1.0 - \\beta\\cos\\theta) * A_e$')\n",
    "plt.plot(theta, powersHertzian, linestyle='--', label='Daniel\\'s code')\n",
    "plt.xlim(left=0.0)\n",
    "plt.ylim(bottom=0)\n",
    "plt.xlabel('Angle (radians)')\n",
    "plt.ylabel('Power (W)')\n",
    "plt.xlim(left=0.0)\n",
    "plt.ylim(bottom=0)\n",
    "plt.legend()\n",
    "plt.tight_layout()"
   ]
  },
  {
   "cell_type": "code",
   "execution_count": null,
   "metadata": {
    "slideshow": {
     "slide_type": "fragment"
    },
    "tags": [
     "to_remove"
    ]
   },
   "outputs": [],
   "source": [
    "max_value = (a0 * qe / (4.0 * np.pi * ep0 * c**2 * R))**2 / (mu0 * c) / (1.0 - beta)**4\n",
    "print('Maximum power (defined in lab time) = %.4E' % (max_value * ae))"
   ]
  },
  {
   "cell_type": "markdown",
   "metadata": {
    "slideshow": {
     "slide_type": "slide"
    }
   },
   "source": [
    "## Summary\n",
    "\n",
    " - By adjusting textbook result to lab time (multiply by $dt' / dt$) can obtain good match between text book result and existing radiation code.\n",
    " - Results shown here are far-field only.\n",
    " - Peak power received by Hertzian dipole 2cm from electron is $\\sim 0.015 fW$, which is still lower the $\\sim 0.028 fW$ reported by Stafford."
   ]
  }
 ],
 "metadata": {
  "celltoolbar": "Tags",
  "kernelspec": {
   "display_name": "Python 3",
   "language": "python",
   "name": "python3"
  },
  "language_info": {
   "codemirror_mode": {
    "name": "ipython",
    "version": 3
   },
   "file_extension": ".py",
   "mimetype": "text/x-python",
   "name": "python",
   "nbconvert_exporter": "python",
   "pygments_lexer": "ipython3",
   "version": "3.7.9"
  }
 },
 "nbformat": 4,
 "nbformat_minor": 4
}
