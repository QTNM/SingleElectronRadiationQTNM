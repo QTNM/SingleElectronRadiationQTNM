{
 "cells": [
  {
   "cell_type": "markdown",
   "metadata": {},
   "source": [
    "# Calculating Electric Field\n",
    "\n",
    "<font size=\"3\">\n",
    "Import required packages and set up some constants:"
   ]
  },
  {
   "cell_type": "code",
   "execution_count": 16,
   "metadata": {},
   "outputs": [],
   "source": [
    "import numpy\n",
    "import matplotlib.pyplot as pyplot"
   ]
  },
  {
   "cell_type": "code",
   "execution_count": 17,
   "metadata": {},
   "outputs": [],
   "source": [
    "ECharge = 1.602176634*10**-19 # Coulombs\n",
    "pi = numpy.pi\n",
    "VacPerm = 8.8541878128*10**-12\t# F/m\n",
    "c = 299792458 # Speed of light in m/s"
   ]
  },
  {
   "cell_type": "markdown",
   "metadata": {},
   "source": [
    "<font size=\"3\">\n",
    "First set up a detector with given dimensions and resolution, set up in x-y plane and centred on the z axis:\n",
    "   \n",
    "![image](Images/Setup Diagram/SetupDiagramPerp1.png)"
   ]
  },
  {
   "cell_type": "code",
   "execution_count": 18,
   "metadata": {},
   "outputs": [],
   "source": [
    "def CreateDetectorArray(Resolution,x0,x1,y0,y1,z):\n",
    "    xs = numpy.linspace(x0,x1,Resolution)\n",
    "    ys = numpy.linspace(y0,y1,Resolution)\n",
    "    ZZ = numpy.zeros((Resolution,Resolution))+z\n",
    "    XX,YY = numpy.meshgrid(xs,ys)\n",
    "    DetectorPositionArray = numpy.dstack([XX,-YY,ZZ]).reshape(Resolution,Resolution,3) # Access by DetectorPositionArray[y index][x index]\n",
    "    return DetectorPositionArray"
   ]
  },
  {
   "cell_type": "code",
   "execution_count": 19,
   "metadata": {},
   "outputs": [],
   "source": [
    "Resolution = 20\n",
    "x0, x1 = -0.025,0.025 # m\n",
    "y0, y1 = -0.01,0.01 # m\n",
    "z = 0.05 # m\n",
    "DetectorPositionArray = CreateDetectorArray(Resolution,x0,x1,y0,y1,z)"
   ]
  },
  {
   "cell_type": "markdown",
   "metadata": {},
   "source": [
    "<font size=\"3\">\n",
    "Next set up the circular motion (these values are calculated for an electron with 18.6keV in a 1T magnetic field):"
   ]
  },
  {
   "cell_type": "code",
   "execution_count": 20,
   "metadata": {},
   "outputs": [],
   "source": [
    "    Time=0\n",
    "    AngFreq = 1.7563*10**11 # s^-1\n",
    "    Amplitude = 0.000448 # m"
   ]
  },
  {
   "cell_type": "markdown",
   "metadata": {},
   "source": [
    "<font size=\"3\">\n",
    "This function produces circular motion for an electron undergoing circular motion in the yz plane centred at the origin (Perpendicular to the detector):"
   ]
  },
  {
   "cell_type": "code",
   "execution_count": 21,
   "metadata": {},
   "outputs": [],
   "source": [
    "def CalcElectronCircularMotionPerp(Time,AngFreq,Amplitude,XPos):\n",
    "    # Circular Motion around x axis\n",
    "    EPosition = Amplitude*numpy.array([XPos,numpy.sin(AngFreq*Time),numpy.cos(AngFreq*Time)])\n",
    "    EVelocity = Amplitude*AngFreq*numpy.array([0,numpy.cos(AngFreq*Time),-numpy.sin(AngFreq*Time)])\n",
    "    EAcceleration = Amplitude*AngFreq**2*numpy.array([0,-numpy.sin(AngFreq*Time),-numpy.cos(AngFreq*Time)])\n",
    "    return EPosition,EVelocity,EAcceleration"
   ]
  },
  {
   "cell_type": "markdown",
   "metadata": {},
   "source": [
    "<font size=\"3\">\n",
    "The field needs to be calculated for each point in the detector, this function uses the non-relativistic far field equation:\n",
    "<font size=\"4\">\n",
    "$\n",
    "\\boldsymbol{E}( \\boldsymbol{r} ,t)=\\frac{q}{4\\pi\\epsilon_0c} \\left( \\frac{\\boldsymbol{n} \\, \\times \\, (\\boldsymbol{n} \\, \\times \\, \\boldsymbol{\\dot{v}}\\,/\\,c)}{r}  \\right)\n",
    "$,\n",
    "<font size=\"3\">\n",
    "where $\\boldsymbol{r}$ is the vector from the emission location (equal to the electron position for non-relativistic motion), and $\\boldsymbol{n}$ is the unit vector in this direction."
   ]
  },
  {
   "cell_type": "code",
   "execution_count": 22,
   "metadata": {},
   "outputs": [],
   "source": [
    "def CalcNonRelEField(Position,Time,EPosition,EAcceleration):\n",
    "    r = numpy.linalg.norm(Position-EPosition)\n",
    "    VecEmissionToObsUnit = (Position-EPosition)/r \n",
    "    n = VecEmissionToObsUnit\n",
    "    EField = ECharge/(4*pi*VacPerm*c)*(numpy.cross(n,numpy.cross(n,EAcceleration)/c)/r)\n",
    "    return EField\n",
    "\n",
    "def CalcNonRelEFieldArray(DetectorPositionArray,Time,EPosition,EAcceleration,Resolution):\n",
    "    EFieldArray = numpy.zeros((Resolution,Resolution,3))\n",
    "    for i in range(Resolution):\n",
    "        for j in range(Resolution):\n",
    "            EFieldVector = CalcNonRelEField(DetectorPositionArray[i][j],Time,EPosition,EAcceleration)\n",
    "            EFieldArray[i,j] = EFieldVector\n",
    "    return EFieldArray"
   ]
  },
  {
   "cell_type": "markdown",
   "metadata": {},
   "source": [
    "<font size=\"3\">\n",
    "The Poynting vector's magnitude can be calculated for EM radiation by:\n",
    "<font size=\"4\"> \n",
    "$S = \\epsilon_0 c E^2$"
   ]
  },
  {
   "cell_type": "code",
   "execution_count": 23,
   "metadata": {},
   "outputs": [],
   "source": [
    "def CalcPoyntingVectorMagnitude(EFieldMagnitudes):\n",
    "    PoyntingMagnitudes = VacPerm*c*EFieldMagnitudes**2\n",
    "    return PoyntingMagnitudes"
   ]
  },
  {
   "cell_type": "markdown",
   "metadata": {},
   "source": [
    "<font size=\"3\">The different times to compute are set here, currently it is just set up to calculate times totalling one full revolution."
   ]
  },
  {
   "cell_type": "code",
   "execution_count": 24,
   "metadata": {},
   "outputs": [],
   "source": [
    "    TimeResolution = 15\n",
    "    MaxTime = 2*pi/AngFreq # 1 Loop around the circle\n",
    "    TimeStep = MaxTime/TimeResolution"
   ]
  },
  {
   "cell_type": "markdown",
   "metadata": {},
   "source": [
    "<font size=\"3\">Loop over all the times and calculate the electron's motion/electric field at each time step and store it in arrays.  The electric field is calculated for each point on the detector at each time step."
   ]
  },
  {
   "cell_type": "code",
   "execution_count": 25,
   "metadata": {},
   "outputs": [],
   "source": [
    "    TimesUsed = []\n",
    "    EFieldXs = numpy.zeros(TimeResolution, dtype=object)\n",
    "    EFieldYs = numpy.zeros(TimeResolution, dtype=object)\n",
    "    EFieldZs = numpy.zeros(TimeResolution, dtype=object)\n",
    "    EFieldMagnitudesArray = numpy.zeros(TimeResolution, dtype= object)\n",
    "    PoyntingMagnitudesArray = numpy.zeros(TimeResolution, dtype=object)\n",
    "    EPositionXs = numpy.zeros(TimeResolution)\n",
    "    EPositionYs = numpy.zeros(TimeResolution)\n",
    "    EPositionZs = numpy.zeros(TimeResolution)\n",
    "    \n",
    "    for i in range(TimeResolution):\n",
    "        # Calculate electron motion for each time step\n",
    "        XPos = 0\n",
    "        EPosition, EVelocity, EAcceleration = CalcElectronCircularMotionPerp(Time,AngFreq,Amplitude,XPos)\n",
    "        \n",
    "        # Calculate EField and Poynting for each time step\n",
    "        EFieldArray = CalcNonRelEFieldArray(DetectorPositionArray,Time,EPosition,EAcceleration,Resolution)\n",
    "        EFieldMagnitudes = numpy.linalg.norm(EFieldArray,axis=(2))    \n",
    "        EFieldXs[i] = EFieldArray[0:,0:,0]\n",
    "        EFieldYs[i] = EFieldArray[0:,0:,1]\n",
    "        EFieldZs[i] = EFieldArray[0:,0:,2]\n",
    "        EFieldMagnitudesArray[i] = EFieldMagnitudes\n",
    "        PoyntingMagnitudesArray[i] = CalcPoyntingVectorMagnitude(EFieldMagnitudes)\n",
    "        \n",
    "        EPositionXs[i] = EPosition[0]\n",
    "        EPositionYs[i] = EPosition[1]\n",
    "        EPositionZs[i] = EPosition[2]\n",
    "        \n",
    "        TimesUsed.append(Time)\n",
    "        Time = Time + TimeStep"
   ]
  },
  {
   "cell_type": "markdown",
   "metadata": {},
   "source": [
    "<font size=\"3\">Then the power is calculated by multiplying the Poynting vector's magnitude by the pixel area calculated from the dimensions of the detector and the resolution:"
   ]
  },
  {
   "cell_type": "code",
   "execution_count": 26,
   "metadata": {},
   "outputs": [],
   "source": [
    "    # PixelArea = (x1-x0)/Resolution*(y1-y0)/Resolution # Instead use power/m^2\n",
    "    PowerArray = PoyntingMagnitudesArray # *PixelArea"
   ]
  },
  {
   "cell_type": "markdown",
   "metadata": {},
   "source": [
    "# Plots\n",
    "<font size=\"3\">Various plots can be made from the data including electron position over time:\n",
    "* The position graph is saved to _Images/Position_"
   ]
  },
  {
   "cell_type": "code",
   "execution_count": 27,
   "metadata": {},
   "outputs": [
    {
     "data": {
      "image/png": "[encoded data removed]",
      "text/plain": [
       "<matplotlib.figure.Figure at 0x20f885d4860>"
      ]
     },
     "metadata": {},
     "output_type": "display_data"
    }
   ],
   "source": [
    "    figepos,axepos = pyplot.subplots(nrows=3, ncols=1, figsize=[10,15])\n",
    "    figeposgraph0 = axepos[0].plot(TimesUsed,EPositionXs)\n",
    "    figeposgraph1 = axepos[1].plot(TimesUsed,EPositionYs)   \n",
    "    figeposgraph2 = axepos[2].plot(TimesUsed,EPositionZs)\n",
    "    axepos[0].set_title(\"Electron Position\")\n",
    "    axepos[0].set_xlabel('t (s)')\n",
    "    axepos[0].set_ylabel('x (m)')\n",
    "    axepos[1].set_xlabel('t (s)')\n",
    "    axepos[1].set_ylabel('y (m)')\n",
    "    axepos[2].set_xlabel('t (s)')\n",
    "    axepos[2].set_ylabel('z (m)')\n",
    "    pyplot.show()\n",
    "    figepos.savefig(\"Images/Position/EPosition\")\n",
    "    pyplot.close(figepos)"
   ]
  },
  {
   "cell_type": "markdown",
   "metadata": {},
   "source": [
    "<font size=\"3\">For colour plots, the various electric field components, magnitudes and powers can all be plotted for each time step.\n",
    "    To keep the colour plots' scale consistent, the max and min values for each variable are calculated with FindColourBounds."
   ]
  },
  {
   "cell_type": "code",
   "execution_count": 28,
   "metadata": {},
   "outputs": [],
   "source": [
    "def FindColourBounds(InputArray,TimeResolution):\n",
    "    ColourMax = numpy.max(InputArray[0])\n",
    "    ColourMin = numpy.min(InputArray[0])\n",
    "    for i in range(TimeResolution):\n",
    "        NewMax = numpy.max(InputArray[i])\n",
    "        NewMin = numpy.min(InputArray[i])\n",
    "        if ColourMax < NewMax:\n",
    "            ColourMax = NewMax\n",
    "        if ColourMin > NewMin:\n",
    "            ColourMin = NewMin\n",
    "    return(ColourMin,ColourMax)"
   ]
  },
  {
   "cell_type": "code",
   "execution_count": 29,
   "metadata": {},
   "outputs": [],
   "source": [
    "    # Set colour bar graph limits\n",
    "    ColourMinEMag,ColourMaxEMag = FindColourBounds(EFieldMagnitudesArray,TimeResolution)\n",
    "    ColourMinPoynting,ColourMaxPoynting = FindColourBounds(PoyntingMagnitudesArray,TimeResolution)\n",
    "    ColourMinPowerArray,ColourMaxPowerArray = FindColourBounds(PowerArray,TimeResolution)\n",
    "    ColourMinEFXs,ColourMaxEFXs = FindColourBounds(EFieldXs,TimeResolution)\n",
    "    ColourMinEFYs,ColourMaxEFYs = FindColourBounds(EFieldYs,TimeResolution)\n",
    "    ColourMinEFZs,ColourMaxEFZs = FindColourBounds(EFieldZs,TimeResolution)"
   ]
  },
  {
   "cell_type": "markdown",
   "metadata": {},
   "source": [
    "<font size=\"3\">Finally the plots are created, for electric field components, magnitudes, and Poynting vector magnitudes.  Quiver plots are made for the xy components of the electric field.  These are all plotted separately for each time step as images.\n",
    "* Electric field magnitude and Poynting magnitude are saved to _Images/Poynting_\n",
    "* The polarity quiver plot is saved to _Images/Polarity_\n",
    "* The components plot is saved to _Images/EFieldComponents_"
   ]
  },
  {
   "cell_type": "code",
   "execution_count": 30,
   "metadata": {
    "scrolled": true
   },
   "outputs": [],
   "source": [
    "    xs = DetectorPositionArray[0:,0:,0]\n",
    "    ys = DetectorPositionArray[0:,0:,1]   \n",
    "    \n",
    "    for i in range(TimeResolution):\n",
    "        # Plot and output images\n",
    "        figsize = [7, 8]     # figure size, inches\n",
    "        fig1, ax = pyplot.subplots(nrows=2, ncols=1, figsize=figsize)\n",
    "        fig1graph0 = ax[0].imshow(EFieldMagnitudesArray[i]*10**6, extent=(x0,x1,y0,y1))\n",
    "        fig1graph1 = ax[1].imshow(PowerArray[i], extent=(x0,x1,y0,y1))\n",
    "        pyplot.xlabel(\"x (m)\")\n",
    "        pyplot.ylabel(\"y (m)\")\n",
    "        colourbar = pyplot.colorbar(fig1graph0, ax=ax[0], orientation=\"vertical\")\n",
    "        colourbar.set_label(r\"Magnitude ($\\mu$V/m)\")\n",
    "        colourbar = pyplot.colorbar(fig1graph1, ax=ax[1], orientation=\"vertical\")\n",
    "        colourbar.set_label(r\"Power Density (W/m$^2$)\")\n",
    "        fig1graph0.set_clim(ColourMinEMag*10**6,ColourMaxEMag*10**6)\n",
    "        fig1graph1.set_clim(ColourMinPowerArray,ColourMaxPowerArray)\n",
    "        ax[0].set_title(\"E Field Magnitude, t=%ss\" % '%.2g' % TimesUsed[i])\n",
    "        ax[1].set_title(\"Power\")\n",
    "        pyplot.tight_layout()\n",
    "        fig1.savefig(\"Images/Poynting/Poynting%s\" % i)\n",
    "        \n",
    "        fig2,ax2 = pyplot.subplots(nrows=1, ncols=1, figsize=[8,5])\n",
    "        fig2graph0 = ax2.quiver(xs,ys,EFieldXs[i],EFieldYs[i])\n",
    "        ax2.set_title(\"E Field XY Components, t=%ss\" % '%.2g' % TimesUsed[i])\n",
    "        pyplot.xlabel(\"x (m)\")\n",
    "        pyplot.ylabel(\"y (m)\")\n",
    "        pyplot.tight_layout()\n",
    "        fig2.savefig(\"Images/Polarity/EFieldPolarity%s\" % i)\n",
    "\n",
    "        pyplot.close(fig1) \n",
    "        pyplot.close(fig2)\n",
    "        \n",
    "        fig4,ax4 = pyplot.subplots(nrows=3, ncols=1, figsize=[8,12])\n",
    "        fig4graph0 = ax4[0].imshow(EFieldXs[i]*10**6, extent=(x0,x1,y0,y1))\n",
    "        fig4graph1 = ax4[1].imshow(EFieldYs[i]*10**6, extent=(x0,x1,y0,y1))\n",
    "        fig4graph2 = ax4[2].imshow(EFieldZs[i]*10**6, extent=(x0,x1,y0,y1))\n",
    "        colourbar = pyplot.colorbar(fig4graph0, ax=ax4[0], orientation=\"vertical\")\n",
    "        colourbar.set_label(r\"Magnitude ($\\mu$V/m)\")\n",
    "        colourbar = pyplot.colorbar(fig4graph1, ax=ax4[1], orientation=\"vertical\")\n",
    "        colourbar.set_label(r\"Magnitude ($\\mu$V/m)\")\n",
    "        colourbar = pyplot.colorbar(fig4graph2, ax=ax4[2], orientation=\"vertical\")\n",
    "        colourbar.set_label(r\"Magnitude ($\\mu$V/m)\")\n",
    "        fig4graph0.set_clim(ColourMinEFXs*10**6,ColourMaxEFXs*10**6)\n",
    "        fig4graph1.set_clim(ColourMinEFYs*10**6,ColourMaxEFYs*10**6)\n",
    "        fig4graph2.set_clim(ColourMinEFZs*10**6,ColourMaxEFZs*10**6)\n",
    "        ax4[0].set_title(\"E Field x Component, t=%ss\" % '%.2g' %TimesUsed[i])\n",
    "        ax4[1].set_title(\"E Field y Component\")\n",
    "        ax4[2].set_title(\"E Field z Component\")\n",
    "        pyplot.xlabel(\"x (m)\")\n",
    "        pyplot.ylabel(\"y (m)\")\n",
    "        pyplot.tight_layout()\n",
    "        fig4.savefig(\"Images/EFieldComponents/EFieldComponents%s\" % i)\n",
    "\n",
    "        pyplot.close(fig4)"
   ]
  },
  {
   "cell_type": "code",
   "execution_count": null,
   "metadata": {},
   "outputs": [],
   "source": []
  },
  {
   "cell_type": "code",
   "execution_count": null,
   "metadata": {},
   "outputs": [],
   "source": []
  },
  {
   "cell_type": "code",
   "execution_count": null,
   "metadata": {},
   "outputs": [],
   "source": []
  }
 ],
 "metadata": {
  "kernelspec": {
   "display_name": "Python 3",
   "language": "python",
   "name": "python3"
  },
  "language_info": {
   "codemirror_mode": {
    "name": "ipython",
    "version": 3
   },
   "file_extension": ".py",
   "mimetype": "text/x-python",
   "name": "python",
   "nbconvert_exporter": "python",
   "pygments_lexer": "ipython3",
   "version": "3.6.4"
  }
 },
 "nbformat": 4,
 "nbformat_minor": 2
}
